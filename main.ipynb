{
 "cells": [
  {
   "cell_type": "code",
   "execution_count": 1,
   "id": "initial_id",
   "metadata": {
    "collapsed": true,
    "ExecuteTime": {
     "end_time": "2024-03-12T01:10:00.377145Z",
     "start_time": "2024-03-12T01:10:00.043066Z"
    }
   },
   "outputs": [],
   "source": [
    "import pandas as pd\n",
    "import numpy as np"
   ]
  },
  {
   "cell_type": "code",
   "outputs": [
    {
     "data": {
      "text/plain": "        incident_id  data_year        ori        pug_agency_name  \\\n0                43       1991  AR0350100             Pine Bluff   \n1                44       1991  AR0350100             Pine Bluff   \n2                45       1991  AR0600300      North Little Rock   \n3                46       1991  AR0600300      North Little Rock   \n4                47       1991  AR0670000                 Sevier   \n...             ...        ...        ...                    ...   \n241658      1473449       2022  WY0190200           Rock Springs   \n241659      1473450       2022  WY0010200  University of Wyoming   \n241660      1476554       2022  WY0190000             Sweetwater   \n241661      1476555       2022  WY0110100               Cheyenne   \n241662      1479088       2022  WY0190100            Green River   \n\n       pub_agency_unit       agency_type_name state_abbr state_name  \\\n0                  NaN                   City         AR   Arkansas   \n1                  NaN                   City         AR   Arkansas   \n2                  NaN                   City         AR   Arkansas   \n3                  NaN                   City         AR   Arkansas   \n4                  NaN                 County         AR   Arkansas   \n...                ...                    ...        ...        ...   \n241658             NaN                   City         WY    Wyoming   \n241659             NaN  University or College         WY    Wyoming   \n241660             NaN                 County         WY    Wyoming   \n241661             NaN                   City         WY    Wyoming   \n241662             NaN                   City         WY    Wyoming   \n\n             division_name region_name  ...              offender_race  \\\n0       West South Central       South  ...  Black or African American   \n1       West South Central       South  ...  Black or African American   \n2       West South Central       South  ...  Black or African American   \n3       West South Central       South  ...  Black or African American   \n4       West South Central       South  ...                      White   \n...                    ...         ...  ...                        ...   \n241658            Mountain        West  ...                      White   \n241659            Mountain        West  ...                      White   \n241660            Mountain        West  ...                      White   \n241661            Mountain        West  ...                      White   \n241662            Mountain        West  ...                      White   \n\n            offender_ethnicity victim_count  \\\n0                Not Specified            1   \n1                Not Specified            2   \n2                Not Specified            2   \n3                Not Specified            1   \n4                Not Specified            1   \n...                        ...          ...   \n241658      Hispanic or Latino            2   \n241659  Not Hispanic or Latino            1   \n241660                Multiple            2   \n241661  Not Hispanic or Latino            1   \n241662  Not Hispanic or Latino            1   \n\n                                             offense_name  \\\n0                                      Aggravated Assault   \n1       Aggravated Assault;Destruction/Damage/Vandalis...   \n2       Aggravated Assault;Murder and Nonnegligent Man...   \n3                                            Intimidation   \n4                                            Intimidation   \n...                                                   ...   \n241658                                     Simple Assault   \n241659                                       Intimidation   \n241660                                     Simple Assault   \n241661                                       Intimidation   \n241662                                     Simple Assault   \n\n        total_individual_victims                       location_name  \\\n0                            1.0                      Residence/Home   \n1                            1.0  Highway/Road/Alley/Street/Sidewalk   \n2                            2.0                      Residence/Home   \n3                            1.0                      Residence/Home   \n4                            1.0                      School/College   \n...                          ...                                 ...   \n241658                       2.0  Highway/Road/Alley/Street/Sidewalk   \n241659                       1.0           School-College/University   \n241660                       2.0  Highway/Road/Alley/Street/Sidewalk   \n241661                       1.0                      Residence/Home   \n241662                       1.0         School-Elementary/Secondary   \n\n                                                bias_desc  victim_types  \\\n0                          Anti-Black or African American    Individual   \n1                                              Anti-White    Individual   \n2                                              Anti-White    Individual   \n3                                              Anti-White    Individual   \n4                          Anti-Black or African American    Individual   \n...                                                   ...           ...   \n241658                                         Anti-White    Individual   \n241659                                    Anti-Gay (Male)    Individual   \n241660                            Anti-Hispanic or Latino    Individual   \n241661                     Anti-Black or African American    Individual   \n241662  Anti-Lesbian, Gay, Bisexual, or Transgender (M...    Individual   \n\n       multiple_offense multiple_bias  \n0                     S             S  \n1                     M             S  \n2                     M             S  \n3                     S             S  \n4                     S             S  \n...                 ...           ...  \n241658                S             S  \n241659                S             S  \n241660                S             S  \n241661                S             S  \n241662                S             S  \n\n[241663 rows x 28 columns]",
      "text/html": "<div>\n<style scoped>\n    .dataframe tbody tr th:only-of-type {\n        vertical-align: middle;\n    }\n\n    .dataframe tbody tr th {\n        vertical-align: top;\n    }\n\n    .dataframe thead th {\n        text-align: right;\n    }\n</style>\n<table border=\"1\" class=\"dataframe\">\n  <thead>\n    <tr style=\"text-align: right;\">\n      <th></th>\n      <th>incident_id</th>\n      <th>data_year</th>\n      <th>ori</th>\n      <th>pug_agency_name</th>\n      <th>pub_agency_unit</th>\n      <th>agency_type_name</th>\n      <th>state_abbr</th>\n      <th>state_name</th>\n      <th>division_name</th>\n      <th>region_name</th>\n      <th>...</th>\n      <th>offender_race</th>\n      <th>offender_ethnicity</th>\n      <th>victim_count</th>\n      <th>offense_name</th>\n      <th>total_individual_victims</th>\n      <th>location_name</th>\n      <th>bias_desc</th>\n      <th>victim_types</th>\n      <th>multiple_offense</th>\n      <th>multiple_bias</th>\n    </tr>\n  </thead>\n  <tbody>\n    <tr>\n      <th>0</th>\n      <td>43</td>\n      <td>1991</td>\n      <td>AR0350100</td>\n      <td>Pine Bluff</td>\n      <td>NaN</td>\n      <td>City</td>\n      <td>AR</td>\n      <td>Arkansas</td>\n      <td>West South Central</td>\n      <td>South</td>\n      <td>...</td>\n      <td>Black or African American</td>\n      <td>Not Specified</td>\n      <td>1</td>\n      <td>Aggravated Assault</td>\n      <td>1.0</td>\n      <td>Residence/Home</td>\n      <td>Anti-Black or African American</td>\n      <td>Individual</td>\n      <td>S</td>\n      <td>S</td>\n    </tr>\n    <tr>\n      <th>1</th>\n      <td>44</td>\n      <td>1991</td>\n      <td>AR0350100</td>\n      <td>Pine Bluff</td>\n      <td>NaN</td>\n      <td>City</td>\n      <td>AR</td>\n      <td>Arkansas</td>\n      <td>West South Central</td>\n      <td>South</td>\n      <td>...</td>\n      <td>Black or African American</td>\n      <td>Not Specified</td>\n      <td>2</td>\n      <td>Aggravated Assault;Destruction/Damage/Vandalis...</td>\n      <td>1.0</td>\n      <td>Highway/Road/Alley/Street/Sidewalk</td>\n      <td>Anti-White</td>\n      <td>Individual</td>\n      <td>M</td>\n      <td>S</td>\n    </tr>\n    <tr>\n      <th>2</th>\n      <td>45</td>\n      <td>1991</td>\n      <td>AR0600300</td>\n      <td>North Little Rock</td>\n      <td>NaN</td>\n      <td>City</td>\n      <td>AR</td>\n      <td>Arkansas</td>\n      <td>West South Central</td>\n      <td>South</td>\n      <td>...</td>\n      <td>Black or African American</td>\n      <td>Not Specified</td>\n      <td>2</td>\n      <td>Aggravated Assault;Murder and Nonnegligent Man...</td>\n      <td>2.0</td>\n      <td>Residence/Home</td>\n      <td>Anti-White</td>\n      <td>Individual</td>\n      <td>M</td>\n      <td>S</td>\n    </tr>\n    <tr>\n      <th>3</th>\n      <td>46</td>\n      <td>1991</td>\n      <td>AR0600300</td>\n      <td>North Little Rock</td>\n      <td>NaN</td>\n      <td>City</td>\n      <td>AR</td>\n      <td>Arkansas</td>\n      <td>West South Central</td>\n      <td>South</td>\n      <td>...</td>\n      <td>Black or African American</td>\n      <td>Not Specified</td>\n      <td>1</td>\n      <td>Intimidation</td>\n      <td>1.0</td>\n      <td>Residence/Home</td>\n      <td>Anti-White</td>\n      <td>Individual</td>\n      <td>S</td>\n      <td>S</td>\n    </tr>\n    <tr>\n      <th>4</th>\n      <td>47</td>\n      <td>1991</td>\n      <td>AR0670000</td>\n      <td>Sevier</td>\n      <td>NaN</td>\n      <td>County</td>\n      <td>AR</td>\n      <td>Arkansas</td>\n      <td>West South Central</td>\n      <td>South</td>\n      <td>...</td>\n      <td>White</td>\n      <td>Not Specified</td>\n      <td>1</td>\n      <td>Intimidation</td>\n      <td>1.0</td>\n      <td>School/College</td>\n      <td>Anti-Black or African American</td>\n      <td>Individual</td>\n      <td>S</td>\n      <td>S</td>\n    </tr>\n    <tr>\n      <th>...</th>\n      <td>...</td>\n      <td>...</td>\n      <td>...</td>\n      <td>...</td>\n      <td>...</td>\n      <td>...</td>\n      <td>...</td>\n      <td>...</td>\n      <td>...</td>\n      <td>...</td>\n      <td>...</td>\n      <td>...</td>\n      <td>...</td>\n      <td>...</td>\n      <td>...</td>\n      <td>...</td>\n      <td>...</td>\n      <td>...</td>\n      <td>...</td>\n      <td>...</td>\n      <td>...</td>\n    </tr>\n    <tr>\n      <th>241658</th>\n      <td>1473449</td>\n      <td>2022</td>\n      <td>WY0190200</td>\n      <td>Rock Springs</td>\n      <td>NaN</td>\n      <td>City</td>\n      <td>WY</td>\n      <td>Wyoming</td>\n      <td>Mountain</td>\n      <td>West</td>\n      <td>...</td>\n      <td>White</td>\n      <td>Hispanic or Latino</td>\n      <td>2</td>\n      <td>Simple Assault</td>\n      <td>2.0</td>\n      <td>Highway/Road/Alley/Street/Sidewalk</td>\n      <td>Anti-White</td>\n      <td>Individual</td>\n      <td>S</td>\n      <td>S</td>\n    </tr>\n    <tr>\n      <th>241659</th>\n      <td>1473450</td>\n      <td>2022</td>\n      <td>WY0010200</td>\n      <td>University of Wyoming</td>\n      <td>NaN</td>\n      <td>University or College</td>\n      <td>WY</td>\n      <td>Wyoming</td>\n      <td>Mountain</td>\n      <td>West</td>\n      <td>...</td>\n      <td>White</td>\n      <td>Not Hispanic or Latino</td>\n      <td>1</td>\n      <td>Intimidation</td>\n      <td>1.0</td>\n      <td>School-College/University</td>\n      <td>Anti-Gay (Male)</td>\n      <td>Individual</td>\n      <td>S</td>\n      <td>S</td>\n    </tr>\n    <tr>\n      <th>241660</th>\n      <td>1476554</td>\n      <td>2022</td>\n      <td>WY0190000</td>\n      <td>Sweetwater</td>\n      <td>NaN</td>\n      <td>County</td>\n      <td>WY</td>\n      <td>Wyoming</td>\n      <td>Mountain</td>\n      <td>West</td>\n      <td>...</td>\n      <td>White</td>\n      <td>Multiple</td>\n      <td>2</td>\n      <td>Simple Assault</td>\n      <td>2.0</td>\n      <td>Highway/Road/Alley/Street/Sidewalk</td>\n      <td>Anti-Hispanic or Latino</td>\n      <td>Individual</td>\n      <td>S</td>\n      <td>S</td>\n    </tr>\n    <tr>\n      <th>241661</th>\n      <td>1476555</td>\n      <td>2022</td>\n      <td>WY0110100</td>\n      <td>Cheyenne</td>\n      <td>NaN</td>\n      <td>City</td>\n      <td>WY</td>\n      <td>Wyoming</td>\n      <td>Mountain</td>\n      <td>West</td>\n      <td>...</td>\n      <td>White</td>\n      <td>Not Hispanic or Latino</td>\n      <td>1</td>\n      <td>Intimidation</td>\n      <td>1.0</td>\n      <td>Residence/Home</td>\n      <td>Anti-Black or African American</td>\n      <td>Individual</td>\n      <td>S</td>\n      <td>S</td>\n    </tr>\n    <tr>\n      <th>241662</th>\n      <td>1479088</td>\n      <td>2022</td>\n      <td>WY0190100</td>\n      <td>Green River</td>\n      <td>NaN</td>\n      <td>City</td>\n      <td>WY</td>\n      <td>Wyoming</td>\n      <td>Mountain</td>\n      <td>West</td>\n      <td>...</td>\n      <td>White</td>\n      <td>Not Hispanic or Latino</td>\n      <td>1</td>\n      <td>Simple Assault</td>\n      <td>1.0</td>\n      <td>School-Elementary/Secondary</td>\n      <td>Anti-Lesbian, Gay, Bisexual, or Transgender (M...</td>\n      <td>Individual</td>\n      <td>S</td>\n      <td>S</td>\n    </tr>\n  </tbody>\n</table>\n<p>241663 rows × 28 columns</p>\n</div>"
     },
     "execution_count": 9,
     "metadata": {},
     "output_type": "execute_result"
    }
   ],
   "source": [
    "# load the large dataset into a pandas dataframe hate_crime.csv\n",
    "data = pd.read_csv('hate_crime.csv', encoding='latin1')\n",
    "data"
   ],
   "metadata": {
    "collapsed": false,
    "ExecuteTime": {
     "end_time": "2024-03-12T01:15:34.541531Z",
     "start_time": "2024-03-12T01:15:33.812567Z"
    }
   },
   "id": "a7e2d7133ac3c0a0",
   "execution_count": 9
  },
  {
   "cell_type": "code",
   "outputs": [],
   "source": [],
   "metadata": {
    "collapsed": false
   },
   "id": "37cf362eb7e12284"
  }
 ],
 "metadata": {
  "kernelspec": {
   "display_name": "Python 3",
   "language": "python",
   "name": "python3"
  },
  "language_info": {
   "codemirror_mode": {
    "name": "ipython",
    "version": 2
   },
   "file_extension": ".py",
   "mimetype": "text/x-python",
   "name": "python",
   "nbconvert_exporter": "python",
   "pygments_lexer": "ipython2",
   "version": "2.7.6"
  }
 },
 "nbformat": 4,
 "nbformat_minor": 5
}
