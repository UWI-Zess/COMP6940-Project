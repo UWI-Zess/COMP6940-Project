{
 "cells": [
  {
   "metadata": {
    "ExecuteTime": {
     "end_time": "2024-05-13T02:42:53.084137Z",
     "start_time": "2024-05-13T02:42:52.283192Z"
    }
   },
   "cell_type": "code",
   "source": [
    "import pandas as pd\n",
    "import numpy as np\n",
    "\n",
    "from sklearn.linear_model import LogisticRegression\n",
    "from sklearn.model_selection import train_test_split\n",
    "from sklearn.metrics import accuracy_score\n",
    "\n",
    "from imblearn.over_sampling import SMOTENC\n",
    "from imblearn.over_sampling import SMOTE \n",
    "\n",
    "from sklearn.model_selection import GridSearchCV\n",
    "from sklearn.metrics import confusion_matrix\n",
    "import seaborn as sns\n"
   ],
   "id": "8d6cca47f878f1c6",
   "outputs": [],
   "execution_count": 1
  },
  {
   "metadata": {
    "ExecuteTime": {
     "end_time": "2024-05-13T02:42:53.221775Z",
     "start_time": "2024-05-13T02:42:53.085636Z"
    }
   },
   "cell_type": "code",
   "source": "df = pd.read_csv(\"../cleaned_hate_crime.csv\")",
   "id": "56be34dece8edec",
   "outputs": [],
   "execution_count": 2
  },
  {
   "metadata": {
    "ExecuteTime": {
     "end_time": "2024-05-13T02:42:53.246615Z",
     "start_time": "2024-05-13T02:42:53.226448Z"
    }
   },
   "cell_type": "code",
   "source": "df.head()",
   "id": "2c4e3abfa34d05b9",
   "outputs": [
    {
     "data": {
      "text/plain": [
       "  region_name              offender_race grouped_total_offender_count  \\\n",
       "0     Midwest                      White                          Few   \n",
       "1   Northeast                      White                          Few   \n",
       "2   Northeast                      White                          Few   \n",
       "3       South  Black or African American                      Several   \n",
       "4   Northeast  Black or African American                          Few   \n",
       "\n",
       "  grouped_victim_count generalized_offense_name generalized_location_name  \\\n",
       "0                  Few           violent crimes                 Residence   \n",
       "1                  Few           violent crimes             Miscellaneous   \n",
       "2                  Few           violent crimes             Miscellaneous   \n",
       "3                  Few           violent crimes              Public Place   \n",
       "4                  Few           violent crimes             Miscellaneous   \n",
       "\n",
       "  generalized_bias_desc  \n",
       "0                  race  \n",
       "1                  race  \n",
       "2                  race  \n",
       "3                  race  \n",
       "4                  race  "
      ],
      "text/html": [
       "<div>\n",
       "<style scoped>\n",
       "    .dataframe tbody tr th:only-of-type {\n",
       "        vertical-align: middle;\n",
       "    }\n",
       "\n",
       "    .dataframe tbody tr th {\n",
       "        vertical-align: top;\n",
       "    }\n",
       "\n",
       "    .dataframe thead th {\n",
       "        text-align: right;\n",
       "    }\n",
       "</style>\n",
       "<table border=\"1\" class=\"dataframe\">\n",
       "  <thead>\n",
       "    <tr style=\"text-align: right;\">\n",
       "      <th></th>\n",
       "      <th>region_name</th>\n",
       "      <th>offender_race</th>\n",
       "      <th>grouped_total_offender_count</th>\n",
       "      <th>grouped_victim_count</th>\n",
       "      <th>generalized_offense_name</th>\n",
       "      <th>generalized_location_name</th>\n",
       "      <th>generalized_bias_desc</th>\n",
       "    </tr>\n",
       "  </thead>\n",
       "  <tbody>\n",
       "    <tr>\n",
       "      <th>0</th>\n",
       "      <td>Midwest</td>\n",
       "      <td>White</td>\n",
       "      <td>Few</td>\n",
       "      <td>Few</td>\n",
       "      <td>violent crimes</td>\n",
       "      <td>Residence</td>\n",
       "      <td>race</td>\n",
       "    </tr>\n",
       "    <tr>\n",
       "      <th>1</th>\n",
       "      <td>Northeast</td>\n",
       "      <td>White</td>\n",
       "      <td>Few</td>\n",
       "      <td>Few</td>\n",
       "      <td>violent crimes</td>\n",
       "      <td>Miscellaneous</td>\n",
       "      <td>race</td>\n",
       "    </tr>\n",
       "    <tr>\n",
       "      <th>2</th>\n",
       "      <td>Northeast</td>\n",
       "      <td>White</td>\n",
       "      <td>Few</td>\n",
       "      <td>Few</td>\n",
       "      <td>violent crimes</td>\n",
       "      <td>Miscellaneous</td>\n",
       "      <td>race</td>\n",
       "    </tr>\n",
       "    <tr>\n",
       "      <th>3</th>\n",
       "      <td>South</td>\n",
       "      <td>Black or African American</td>\n",
       "      <td>Several</td>\n",
       "      <td>Few</td>\n",
       "      <td>violent crimes</td>\n",
       "      <td>Public Place</td>\n",
       "      <td>race</td>\n",
       "    </tr>\n",
       "    <tr>\n",
       "      <th>4</th>\n",
       "      <td>Northeast</td>\n",
       "      <td>Black or African American</td>\n",
       "      <td>Few</td>\n",
       "      <td>Few</td>\n",
       "      <td>violent crimes</td>\n",
       "      <td>Miscellaneous</td>\n",
       "      <td>race</td>\n",
       "    </tr>\n",
       "  </tbody>\n",
       "</table>\n",
       "</div>"
      ]
     },
     "execution_count": 3,
     "metadata": {},
     "output_type": "execute_result"
    }
   ],
   "execution_count": 3
  },
  {
   "metadata": {
    "ExecuteTime": {
     "end_time": "2024-05-13T02:42:53.264679Z",
     "start_time": "2024-05-13T02:42:53.249379Z"
    }
   },
   "cell_type": "code",
   "source": [
    "# Creating X and Y General Subsets of the data\n",
    "X_gen = df[[\"region_name\", \"offender_race\", \"grouped_total_offender_count\", \"grouped_victim_count\", \"generalized_offense_name\", \"generalized_location_name\"]]\n",
    "\n",
    "Y_gen = df[\"generalized_bias_desc\"]"
   ],
   "id": "7d74295da3f80848",
   "outputs": [],
   "execution_count": 4
  },
  {
   "metadata": {},
   "cell_type": "markdown",
   "source": "# Logistic Regression",
   "id": "30133a562191e5b"
  },
  {
   "metadata": {
    "ExecuteTime": {
     "end_time": "2024-05-13T02:42:53.273394Z",
     "start_time": "2024-05-13T02:42:53.267741Z"
    }
   },
   "cell_type": "code",
   "source": [
    "# Passing a copy of X_gen and Y_gen to X_logit and Y_logit\n",
    "X_logit = X_gen\n",
    "Y_logit = Y_gen"
   ],
   "id": "9ce2a65184046809",
   "outputs": [],
   "execution_count": 5
  },
  {
   "metadata": {
    "ExecuteTime": {
     "end_time": "2024-05-13T02:42:53.298638Z",
     "start_time": "2024-05-13T02:42:53.275613Z"
    }
   },
   "cell_type": "code",
   "source": "Y_logit.info()",
   "id": "d5289b2e788026a0",
   "outputs": [
    {
     "name": "stdout",
     "output_type": "stream",
     "text": [
      "<class 'pandas.core.series.Series'>\n",
      "RangeIndex: 132989 entries, 0 to 132988\n",
      "Series name: generalized_bias_desc\n",
      "Non-Null Count   Dtype \n",
      "--------------   ----- \n",
      "132989 non-null  object\n",
      "dtypes: object(1)\n",
      "memory usage: 1.0+ MB\n"
     ]
    }
   ],
   "execution_count": 6
  },
  {
   "metadata": {
    "ExecuteTime": {
     "end_time": "2024-05-13T02:42:53.315484Z",
     "start_time": "2024-05-13T02:42:53.300710Z"
    }
   },
   "cell_type": "code",
   "source": "Y_logit.info()",
   "id": "ab496631f0d5f2dd",
   "outputs": [
    {
     "name": "stdout",
     "output_type": "stream",
     "text": [
      "<class 'pandas.core.series.Series'>\n",
      "RangeIndex: 132989 entries, 0 to 132988\n",
      "Series name: generalized_bias_desc\n",
      "Non-Null Count   Dtype \n",
      "--------------   ----- \n",
      "132989 non-null  object\n",
      "dtypes: object(1)\n",
      "memory usage: 1.0+ MB\n"
     ]
    }
   ],
   "execution_count": 7
  },
  {
   "metadata": {},
   "cell_type": "markdown",
   "source": [
    "- 0: Race\n",
    "- 1: Religion\n",
    "- 2: Sexual Orientation"
   ],
   "id": "b529058e1fa33a03"
  },
  {
   "metadata": {
    "ExecuteTime": {
     "end_time": "2024-05-13T02:42:53.589628Z",
     "start_time": "2024-05-13T02:42:53.316493Z"
    }
   },
   "cell_type": "code",
   "source": [
    "order = Y_logit.value_counts().index\n",
    "\n",
    "sns.countplot(x=Y_logit.index, data=Y_logit, order=order)"
   ],
   "id": "95489440fafb2683",
   "outputs": [
    {
     "data": {
      "text/plain": [
       "<Axes: xlabel='generalized_bias_desc', ylabel='count'>"
      ]
     },
     "execution_count": 8,
     "metadata": {},
     "output_type": "execute_result"
    },
    {
     "data": {
      "text/plain": [
       "<Figure size 640x480 with 1 Axes>"
      ],
      "image/png": "[encoded data removed]"
     },
     "metadata": {},
     "output_type": "display_data"
    }
   ],
   "execution_count": 8
  },
  {
   "metadata": {
    "ExecuteTime": {
     "end_time": "2024-05-13T02:42:53.820434Z",
     "start_time": "2024-05-13T02:42:53.591700Z"
    }
   },
   "cell_type": "code",
   "source": [
    "cat_vars=[\"region_name\", \"offender_race\", \"grouped_total_offender_count\", \"grouped_victim_count\", \"generalized_offense_name\", \"generalized_location_name\"]\n",
    "\n",
    "for var in cat_vars:\n",
    "    cat_list = pd.get_dummies(X_logit[var], prefix=var)\n",
    "    X_logit = pd.concat([X_logit, cat_list], axis=1)\n",
    "    X_logit.drop(var, axis=1, inplace=True)"
   ],
   "id": "6ea50794a7400e62",
   "outputs": [],
   "execution_count": 9
  },
  {
   "metadata": {
    "ExecuteTime": {
     "end_time": "2024-05-13T02:42:53.858280Z",
     "start_time": "2024-05-13T02:42:53.825004Z"
    }
   },
   "cell_type": "code",
   "source": [
    "Y_cat_list = pd.get_dummies(Y_logit, prefix=\"generalized_bias_desc\")\n",
    "Y_logit = pd.concat([Y_logit, Y_cat_list], axis=1)\n",
    "Y_logit.drop(\"generalized_bias_desc\", axis=1, inplace=True)"
   ],
   "id": "f851f802391331b9",
   "outputs": [],
   "execution_count": 10
  },
  {
   "metadata": {
    "ExecuteTime": {
     "end_time": "2024-05-13T02:42:53.929963Z",
     "start_time": "2024-05-13T02:42:53.865299Z"
    }
   },
   "cell_type": "code",
   "source": "X_logit",
   "id": "c39b5dfc2ba68ddf",
   "outputs": [
    {
     "data": {
      "text/plain": [
       "        region_name_Midwest  region_name_Northeast  region_name_Other  \\\n",
       "0                      True                  False              False   \n",
       "1                     False                   True              False   \n",
       "2                     False                   True              False   \n",
       "3                     False                  False              False   \n",
       "4                     False                   True              False   \n",
       "...                     ...                    ...                ...   \n",
       "132984                False                  False              False   \n",
       "132985                False                  False              False   \n",
       "132986                False                  False              False   \n",
       "132987                False                   True              False   \n",
       "132988                False                  False              False   \n",
       "\n",
       "        region_name_South  region_name_U.S. Territories  region_name_West  \\\n",
       "0                   False                         False             False   \n",
       "1                   False                         False             False   \n",
       "2                   False                         False             False   \n",
       "3                    True                         False             False   \n",
       "4                   False                         False             False   \n",
       "...                   ...                           ...               ...   \n",
       "132984               True                         False             False   \n",
       "132985              False                         False              True   \n",
       "132986              False                         False              True   \n",
       "132987              False                         False             False   \n",
       "132988              False                         False              True   \n",
       "\n",
       "        offender_race_American Indian or Alaska Native  offender_race_Asian  \\\n",
       "0                                                False                False   \n",
       "1                                                False                False   \n",
       "2                                                False                False   \n",
       "3                                                False                False   \n",
       "4                                                False                False   \n",
       "...                                                ...                  ...   \n",
       "132984                                           False                False   \n",
       "132985                                           False                False   \n",
       "132986                                           False                False   \n",
       "132987                                           False                False   \n",
       "132988                                           False                False   \n",
       "\n",
       "        offender_race_Black or African American  offender_race_Multiple  ...  \\\n",
       "0                                         False                   False  ...   \n",
       "1                                         False                   False  ...   \n",
       "2                                         False                   False  ...   \n",
       "3                                          True                   False  ...   \n",
       "4                                          True                   False  ...   \n",
       "...                                         ...                     ...  ...   \n",
       "132984                                     True                   False  ...   \n",
       "132985                                     True                   False  ...   \n",
       "132986                                    False                   False  ...   \n",
       "132987                                    False                   False  ...   \n",
       "132988                                    False                   False  ...   \n",
       "\n",
       "        generalized_offense_name_sexual crimes  \\\n",
       "0                                        False   \n",
       "1                                        False   \n",
       "2                                        False   \n",
       "3                                        False   \n",
       "4                                        False   \n",
       "...                                        ...   \n",
       "132984                                   False   \n",
       "132985                                   False   \n",
       "132986                                   False   \n",
       "132987                                   False   \n",
       "132988                                   False   \n",
       "\n",
       "        generalized_offense_name_violent crimes  \\\n",
       "0                                          True   \n",
       "1                                          True   \n",
       "2                                          True   \n",
       "3                                          True   \n",
       "4                                          True   \n",
       "...                                         ...   \n",
       "132984                                     True   \n",
       "132985                                     True   \n",
       "132986                                     True   \n",
       "132987                                     True   \n",
       "132988                                     True   \n",
       "\n",
       "        generalized_location_name_Construction/Industrial  \\\n",
       "0                                                   False   \n",
       "1                                                   False   \n",
       "2                                                   False   \n",
       "3                                                   False   \n",
       "4                                                   False   \n",
       "...                                                   ...   \n",
       "132984                                              False   \n",
       "132985                                              False   \n",
       "132986                                              False   \n",
       "132987                                              False   \n",
       "132988                                              False   \n",
       "\n",
       "        generalized_location_name_Education  \\\n",
       "0                                     False   \n",
       "1                                     False   \n",
       "2                                     False   \n",
       "3                                     False   \n",
       "4                                     False   \n",
       "...                                     ...   \n",
       "132984                                False   \n",
       "132985                                False   \n",
       "132986                                False   \n",
       "132987                                False   \n",
       "132988                                False   \n",
       "\n",
       "        generalized_location_name_Law Enforcement  \\\n",
       "0                                           False   \n",
       "1                                           False   \n",
       "2                                           False   \n",
       "3                                           False   \n",
       "4                                           False   \n",
       "...                                           ...   \n",
       "132984                                      False   \n",
       "132985                                       True   \n",
       "132986                                      False   \n",
       "132987                                      False   \n",
       "132988                                      False   \n",
       "\n",
       "        generalized_location_name_Miscellaneous  \\\n",
       "0                                         False   \n",
       "1                                          True   \n",
       "2                                          True   \n",
       "3                                         False   \n",
       "4                                          True   \n",
       "...                                         ...   \n",
       "132984                                    False   \n",
       "132985                                    False   \n",
       "132986                                    False   \n",
       "132987                                    False   \n",
       "132988                                    False   \n",
       "\n",
       "        generalized_location_name_Outdoor/Nature  \\\n",
       "0                                          False   \n",
       "1                                          False   \n",
       "2                                          False   \n",
       "3                                          False   \n",
       "4                                          False   \n",
       "...                                          ...   \n",
       "132984                                     False   \n",
       "132985                                     False   \n",
       "132986                                     False   \n",
       "132987                                     False   \n",
       "132988                                     False   \n",
       "\n",
       "        generalized_location_name_Public Place  \\\n",
       "0                                        False   \n",
       "1                                        False   \n",
       "2                                        False   \n",
       "3                                         True   \n",
       "4                                        False   \n",
       "...                                        ...   \n",
       "132984                                   False   \n",
       "132985                                   False   \n",
       "132986                                    True   \n",
       "132987                                   False   \n",
       "132988                                   False   \n",
       "\n",
       "        generalized_location_name_Residence  generalized_location_name_Retail  \n",
       "0                                      True                             False  \n",
       "1                                     False                             False  \n",
       "2                                     False                             False  \n",
       "3                                     False                             False  \n",
       "4                                     False                             False  \n",
       "...                                     ...                               ...  \n",
       "132984                                 True                             False  \n",
       "132985                                False                             False  \n",
       "132986                                False                             False  \n",
       "132987                                 True                             False  \n",
       "132988                                 True                             False  \n",
       "\n",
       "[132989 rows x 32 columns]"
      ],
      "text/html": [
       "<div>\n",
       "<style scoped>\n",
       "    .dataframe tbody tr th:only-of-type {\n",
       "        vertical-align: middle;\n",
       "    }\n",
       "\n",
       "    .dataframe tbody tr th {\n",
       "        vertical-align: top;\n",
       "    }\n",
       "\n",
       "    .dataframe thead th {\n",
       "        text-align: right;\n",
       "    }\n",
       "</style>\n",
       "<table border=\"1\" class=\"dataframe\">\n",
       "  <thead>\n",
       "    <tr style=\"text-align: right;\">\n",
       "      <th></th>\n",
       "      <th>region_name_Midwest</th>\n",
       "      <th>region_name_Northeast</th>\n",
       "      <th>region_name_Other</th>\n",
       "      <th>region_name_South</th>\n",
       "      <th>region_name_U.S. Territories</th>\n",
       "      <th>region_name_West</th>\n",
       "      <th>offender_race_American Indian or Alaska Native</th>\n",
       "      <th>offender_race_Asian</th>\n",
       "      <th>offender_race_Black or African American</th>\n",
       "      <th>offender_race_Multiple</th>\n",
       "      <th>...</th>\n",
       "      <th>generalized_offense_name_sexual crimes</th>\n",
       "      <th>generalized_offense_name_violent crimes</th>\n",
       "      <th>generalized_location_name_Construction/Industrial</th>\n",
       "      <th>generalized_location_name_Education</th>\n",
       "      <th>generalized_location_name_Law Enforcement</th>\n",
       "      <th>generalized_location_name_Miscellaneous</th>\n",
       "      <th>generalized_location_name_Outdoor/Nature</th>\n",
       "      <th>generalized_location_name_Public Place</th>\n",
       "      <th>generalized_location_name_Residence</th>\n",
       "      <th>generalized_location_name_Retail</th>\n",
       "    </tr>\n",
       "  </thead>\n",
       "  <tbody>\n",
       "    <tr>\n",
       "      <th>0</th>\n",
       "      <td>True</td>\n",
       "      <td>False</td>\n",
       "      <td>False</td>\n",
       "      <td>False</td>\n",
       "      <td>False</td>\n",
       "      <td>False</td>\n",
       "      <td>False</td>\n",
       "      <td>False</td>\n",
       "      <td>False</td>\n",
       "      <td>False</td>\n",
       "      <td>...</td>\n",
       "      <td>False</td>\n",
       "      <td>True</td>\n",
       "      <td>False</td>\n",
       "      <td>False</td>\n",
       "      <td>False</td>\n",
       "      <td>False</td>\n",
       "      <td>False</td>\n",
       "      <td>False</td>\n",
       "      <td>True</td>\n",
       "      <td>False</td>\n",
       "    </tr>\n",
       "    <tr>\n",
       "      <th>1</th>\n",
       "      <td>False</td>\n",
       "      <td>True</td>\n",
       "      <td>False</td>\n",
       "      <td>False</td>\n",
       "      <td>False</td>\n",
       "      <td>False</td>\n",
       "      <td>False</td>\n",
       "      <td>False</td>\n",
       "      <td>False</td>\n",
       "      <td>False</td>\n",
       "      <td>...</td>\n",
       "      <td>False</td>\n",
       "      <td>True</td>\n",
       "      <td>False</td>\n",
       "      <td>False</td>\n",
       "      <td>False</td>\n",
       "      <td>True</td>\n",
       "      <td>False</td>\n",
       "      <td>False</td>\n",
       "      <td>False</td>\n",
       "      <td>False</td>\n",
       "    </tr>\n",
       "    <tr>\n",
       "      <th>2</th>\n",
       "      <td>False</td>\n",
       "      <td>True</td>\n",
       "      <td>False</td>\n",
       "      <td>False</td>\n",
       "      <td>False</td>\n",
       "      <td>False</td>\n",
       "      <td>False</td>\n",
       "      <td>False</td>\n",
       "      <td>False</td>\n",
       "      <td>False</td>\n",
       "      <td>...</td>\n",
       "      <td>False</td>\n",
       "      <td>True</td>\n",
       "      <td>False</td>\n",
       "      <td>False</td>\n",
       "      <td>False</td>\n",
       "      <td>True</td>\n",
       "      <td>False</td>\n",
       "      <td>False</td>\n",
       "      <td>False</td>\n",
       "      <td>False</td>\n",
       "    </tr>\n",
       "    <tr>\n",
       "      <th>3</th>\n",
       "      <td>False</td>\n",
       "      <td>False</td>\n",
       "      <td>False</td>\n",
       "      <td>True</td>\n",
       "      <td>False</td>\n",
       "      <td>False</td>\n",
       "      <td>False</td>\n",
       "      <td>False</td>\n",
       "      <td>True</td>\n",
       "      <td>False</td>\n",
       "      <td>...</td>\n",
       "      <td>False</td>\n",
       "      <td>True</td>\n",
       "      <td>False</td>\n",
       "      <td>False</td>\n",
       "      <td>False</td>\n",
       "      <td>False</td>\n",
       "      <td>False</td>\n",
       "      <td>True</td>\n",
       "      <td>False</td>\n",
       "      <td>False</td>\n",
       "    </tr>\n",
       "    <tr>\n",
       "      <th>4</th>\n",
       "      <td>False</td>\n",
       "      <td>True</td>\n",
       "      <td>False</td>\n",
       "      <td>False</td>\n",
       "      <td>False</td>\n",
       "      <td>False</td>\n",
       "      <td>False</td>\n",
       "      <td>False</td>\n",
       "      <td>True</td>\n",
       "      <td>False</td>\n",
       "      <td>...</td>\n",
       "      <td>False</td>\n",
       "      <td>True</td>\n",
       "      <td>False</td>\n",
       "      <td>False</td>\n",
       "      <td>False</td>\n",
       "      <td>True</td>\n",
       "      <td>False</td>\n",
       "      <td>False</td>\n",
       "      <td>False</td>\n",
       "      <td>False</td>\n",
       "    </tr>\n",
       "    <tr>\n",
       "      <th>...</th>\n",
       "      <td>...</td>\n",
       "      <td>...</td>\n",
       "      <td>...</td>\n",
       "      <td>...</td>\n",
       "      <td>...</td>\n",
       "      <td>...</td>\n",
       "      <td>...</td>\n",
       "      <td>...</td>\n",
       "      <td>...</td>\n",
       "      <td>...</td>\n",
       "      <td>...</td>\n",
       "      <td>...</td>\n",
       "      <td>...</td>\n",
       "      <td>...</td>\n",
       "      <td>...</td>\n",
       "      <td>...</td>\n",
       "      <td>...</td>\n",
       "      <td>...</td>\n",
       "      <td>...</td>\n",
       "      <td>...</td>\n",
       "      <td>...</td>\n",
       "    </tr>\n",
       "    <tr>\n",
       "      <th>132984</th>\n",
       "      <td>False</td>\n",
       "      <td>False</td>\n",
       "      <td>False</td>\n",
       "      <td>True</td>\n",
       "      <td>False</td>\n",
       "      <td>False</td>\n",
       "      <td>False</td>\n",
       "      <td>False</td>\n",
       "      <td>True</td>\n",
       "      <td>False</td>\n",
       "      <td>...</td>\n",
       "      <td>False</td>\n",
       "      <td>True</td>\n",
       "      <td>False</td>\n",
       "      <td>False</td>\n",
       "      <td>False</td>\n",
       "      <td>False</td>\n",
       "      <td>False</td>\n",
       "      <td>False</td>\n",
       "      <td>True</td>\n",
       "      <td>False</td>\n",
       "    </tr>\n",
       "    <tr>\n",
       "      <th>132985</th>\n",
       "      <td>False</td>\n",
       "      <td>False</td>\n",
       "      <td>False</td>\n",
       "      <td>False</td>\n",
       "      <td>False</td>\n",
       "      <td>True</td>\n",
       "      <td>False</td>\n",
       "      <td>False</td>\n",
       "      <td>True</td>\n",
       "      <td>False</td>\n",
       "      <td>...</td>\n",
       "      <td>False</td>\n",
       "      <td>True</td>\n",
       "      <td>False</td>\n",
       "      <td>False</td>\n",
       "      <td>True</td>\n",
       "      <td>False</td>\n",
       "      <td>False</td>\n",
       "      <td>False</td>\n",
       "      <td>False</td>\n",
       "      <td>False</td>\n",
       "    </tr>\n",
       "    <tr>\n",
       "      <th>132986</th>\n",
       "      <td>False</td>\n",
       "      <td>False</td>\n",
       "      <td>False</td>\n",
       "      <td>False</td>\n",
       "      <td>False</td>\n",
       "      <td>True</td>\n",
       "      <td>False</td>\n",
       "      <td>False</td>\n",
       "      <td>False</td>\n",
       "      <td>False</td>\n",
       "      <td>...</td>\n",
       "      <td>False</td>\n",
       "      <td>True</td>\n",
       "      <td>False</td>\n",
       "      <td>False</td>\n",
       "      <td>False</td>\n",
       "      <td>False</td>\n",
       "      <td>False</td>\n",
       "      <td>True</td>\n",
       "      <td>False</td>\n",
       "      <td>False</td>\n",
       "    </tr>\n",
       "    <tr>\n",
       "      <th>132987</th>\n",
       "      <td>False</td>\n",
       "      <td>True</td>\n",
       "      <td>False</td>\n",
       "      <td>False</td>\n",
       "      <td>False</td>\n",
       "      <td>False</td>\n",
       "      <td>False</td>\n",
       "      <td>False</td>\n",
       "      <td>False</td>\n",
       "      <td>False</td>\n",
       "      <td>...</td>\n",
       "      <td>False</td>\n",
       "      <td>True</td>\n",
       "      <td>False</td>\n",
       "      <td>False</td>\n",
       "      <td>False</td>\n",
       "      <td>False</td>\n",
       "      <td>False</td>\n",
       "      <td>False</td>\n",
       "      <td>True</td>\n",
       "      <td>False</td>\n",
       "    </tr>\n",
       "    <tr>\n",
       "      <th>132988</th>\n",
       "      <td>False</td>\n",
       "      <td>False</td>\n",
       "      <td>False</td>\n",
       "      <td>False</td>\n",
       "      <td>False</td>\n",
       "      <td>True</td>\n",
       "      <td>False</td>\n",
       "      <td>False</td>\n",
       "      <td>False</td>\n",
       "      <td>False</td>\n",
       "      <td>...</td>\n",
       "      <td>False</td>\n",
       "      <td>True</td>\n",
       "      <td>False</td>\n",
       "      <td>False</td>\n",
       "      <td>False</td>\n",
       "      <td>False</td>\n",
       "      <td>False</td>\n",
       "      <td>False</td>\n",
       "      <td>True</td>\n",
       "      <td>False</td>\n",
       "    </tr>\n",
       "  </tbody>\n",
       "</table>\n",
       "<p>132989 rows × 32 columns</p>\n",
       "</div>"
      ]
     },
     "execution_count": 11,
     "metadata": {},
     "output_type": "execute_result"
    }
   ],
   "execution_count": 11
  },
  {
   "metadata": {
    "ExecuteTime": {
     "end_time": "2024-05-13T02:42:53.953701Z",
     "start_time": "2024-05-13T02:42:53.933355Z"
    }
   },
   "cell_type": "code",
   "source": "Y_logit",
   "id": "18ecbd7d18bb308a",
   "outputs": [
    {
     "data": {
      "text/plain": [
       "        generalized_bias_desc_race  generalized_bias_desc_religion  \\\n",
       "0                             True                           False   \n",
       "1                             True                           False   \n",
       "2                             True                           False   \n",
       "3                             True                           False   \n",
       "4                             True                           False   \n",
       "...                            ...                             ...   \n",
       "132984                       False                           False   \n",
       "132985                       False                           False   \n",
       "132986                        True                           False   \n",
       "132987                        True                           False   \n",
       "132988                        True                           False   \n",
       "\n",
       "        generalized_bias_desc_sexual orientation  \n",
       "0                                          False  \n",
       "1                                          False  \n",
       "2                                          False  \n",
       "3                                          False  \n",
       "4                                          False  \n",
       "...                                          ...  \n",
       "132984                                      True  \n",
       "132985                                      True  \n",
       "132986                                     False  \n",
       "132987                                     False  \n",
       "132988                                     False  \n",
       "\n",
       "[132989 rows x 3 columns]"
      ],
      "text/html": [
       "<div>\n",
       "<style scoped>\n",
       "    .dataframe tbody tr th:only-of-type {\n",
       "        vertical-align: middle;\n",
       "    }\n",
       "\n",
       "    .dataframe tbody tr th {\n",
       "        vertical-align: top;\n",
       "    }\n",
       "\n",
       "    .dataframe thead th {\n",
       "        text-align: right;\n",
       "    }\n",
       "</style>\n",
       "<table border=\"1\" class=\"dataframe\">\n",
       "  <thead>\n",
       "    <tr style=\"text-align: right;\">\n",
       "      <th></th>\n",
       "      <th>generalized_bias_desc_race</th>\n",
       "      <th>generalized_bias_desc_religion</th>\n",
       "      <th>generalized_bias_desc_sexual orientation</th>\n",
       "    </tr>\n",
       "  </thead>\n",
       "  <tbody>\n",
       "    <tr>\n",
       "      <th>0</th>\n",
       "      <td>True</td>\n",
       "      <td>False</td>\n",
       "      <td>False</td>\n",
       "    </tr>\n",
       "    <tr>\n",
       "      <th>1</th>\n",
       "      <td>True</td>\n",
       "      <td>False</td>\n",
       "      <td>False</td>\n",
       "    </tr>\n",
       "    <tr>\n",
       "      <th>2</th>\n",
       "      <td>True</td>\n",
       "      <td>False</td>\n",
       "      <td>False</td>\n",
       "    </tr>\n",
       "    <tr>\n",
       "      <th>3</th>\n",
       "      <td>True</td>\n",
       "      <td>False</td>\n",
       "      <td>False</td>\n",
       "    </tr>\n",
       "    <tr>\n",
       "      <th>4</th>\n",
       "      <td>True</td>\n",
       "      <td>False</td>\n",
       "      <td>False</td>\n",
       "    </tr>\n",
       "    <tr>\n",
       "      <th>...</th>\n",
       "      <td>...</td>\n",
       "      <td>...</td>\n",
       "      <td>...</td>\n",
       "    </tr>\n",
       "    <tr>\n",
       "      <th>132984</th>\n",
       "      <td>False</td>\n",
       "      <td>False</td>\n",
       "      <td>True</td>\n",
       "    </tr>\n",
       "    <tr>\n",
       "      <th>132985</th>\n",
       "      <td>False</td>\n",
       "      <td>False</td>\n",
       "      <td>True</td>\n",
       "    </tr>\n",
       "    <tr>\n",
       "      <th>132986</th>\n",
       "      <td>True</td>\n",
       "      <td>False</td>\n",
       "      <td>False</td>\n",
       "    </tr>\n",
       "    <tr>\n",
       "      <th>132987</th>\n",
       "      <td>True</td>\n",
       "      <td>False</td>\n",
       "      <td>False</td>\n",
       "    </tr>\n",
       "    <tr>\n",
       "      <th>132988</th>\n",
       "      <td>True</td>\n",
       "      <td>False</td>\n",
       "      <td>False</td>\n",
       "    </tr>\n",
       "  </tbody>\n",
       "</table>\n",
       "<p>132989 rows × 3 columns</p>\n",
       "</div>"
      ]
     },
     "execution_count": 12,
     "metadata": {},
     "output_type": "execute_result"
    }
   ],
   "execution_count": 12
  },
  {
   "metadata": {},
   "cell_type": "markdown",
   "source": "## Applying SMOTENC",
   "id": "9f0c2a1e4e2bf275"
  },
  {
   "metadata": {
    "ExecuteTime": {
     "end_time": "2024-05-13T02:42:54.000247Z",
     "start_time": "2024-05-13T02:42:53.959463Z"
    }
   },
   "cell_type": "code",
   "source": [
    "# Split the data into train and test sets\n",
    "X_train_logit, X_test_logit, Y_train_logit, Y_test_logit = train_test_split(X_logit, Y_logit, test_size=0.2, random_state=69)"
   ],
   "id": "5581c1e955d966f6",
   "outputs": [],
   "execution_count": 13
  },
  {
   "metadata": {
    "ExecuteTime": {
     "end_time": "2024-05-13T02:42:54.015738Z",
     "start_time": "2024-05-13T02:42:54.005310Z"
    }
   },
   "cell_type": "code",
   "source": [
    "X_train_logit = np.array(X_train_logit)\n",
    "Y_train_logit = np.array(Y_train_logit)\n",
    "\n",
    "X_test_logit = np.array(X_test_logit)\n",
    "Y_test_logit = np.array(Y_test_logit)"
   ],
   "id": "c7f635627dd1cdaa",
   "outputs": [],
   "execution_count": 14
  },
  {
   "metadata": {
    "ExecuteTime": {
     "end_time": "2024-05-13T02:43:08.170315Z",
     "start_time": "2024-05-13T02:42:54.020317Z"
    }
   },
   "cell_type": "code",
   "source": [
    "cat_indices = [0, 1, 2]\n",
    "\n",
    "# Apply SMOTENC directly\n",
    "smote_nc = SMOTENC(categorical_features=cat_indices, random_state=69)\n",
    "\n",
    "smote = SMOTE(random_state=69)\n",
    "\n",
    "X_train_resampled, Y_train_resampled = smote_nc.fit_resample(X_train_logit, Y_train_logit)"
   ],
   "id": "472e8ae224cbd82b",
   "outputs": [],
   "execution_count": 15
  },
  {
   "metadata": {
    "ExecuteTime": {
     "end_time": "2024-05-13T02:43:08.407301Z",
     "start_time": "2024-05-13T02:43:08.172383Z"
    }
   },
   "cell_type": "code",
   "source": [
    "# Flatten the resampled target labels array\n",
    "Y_train_resampled_flat = Y_train_resampled.argmax(axis=1)\n",
    "\n",
    "# Convert the flattened array to a pandas Series\n",
    "Y_train_resampled_series = pd.Series(Y_train_resampled_flat)\n",
    "\n",
    "# Plot the distribution\n",
    "sns.countplot(x=Y_train_resampled_series)"
   ],
   "id": "43e7fbf8003f2cec",
   "outputs": [
    {
     "data": {
      "text/plain": [
       "<Axes: ylabel='count'>"
      ]
     },
     "execution_count": 16,
     "metadata": {},
     "output_type": "execute_result"
    },
    {
     "data": {
      "text/plain": [
       "<Figure size 640x480 with 1 Axes>"
      ],
      "image/png": "[encoded data removed]"
     },
     "metadata": {},
     "output_type": "display_data"
    }
   ],
   "execution_count": 16
  },
  {
   "metadata": {
    "ExecuteTime": {
     "end_time": "2024-05-13T02:43:35.281669Z",
     "start_time": "2024-05-13T02:43:08.408849Z"
    }
   },
   "cell_type": "code",
   "source": [
    "model = LogisticRegression(multi_class=\"multinomial\", solver='lbfgs', max_iter=1000)\n",
    "\n",
    "model.fit(X_train_resampled, Y_train_resampled_flat)"
   ],
   "id": "7d8cd4cdf6f6bd4b",
   "outputs": [
    {
     "data": {
      "text/plain": [
       "LogisticRegression(max_iter=1000, multi_class='multinomial')"
      ],
      "text/html": [
       "<style>#sk-container-id-1 {color: black;background-color: white;}#sk-container-id-1 pre{padding: 0;}#sk-container-id-1 div.sk-toggleable {background-color: white;}#sk-container-id-1 label.sk-toggleable__label {cursor: pointer;display: block;width: 100%;margin-bottom: 0;padding: 0.3em;box-sizing: border-box;text-align: center;}#sk-container-id-1 label.sk-toggleable__label-arrow:before {content: \"▸\";float: left;margin-right: 0.25em;color: #696969;}#sk-container-id-1 label.sk-toggleable__label-arrow:hover:before {color: black;}#sk-container-id-1 div.sk-estimator:hover label.sk-toggleable__label-arrow:before {color: black;}#sk-container-id-1 div.sk-toggleable__content {max-height: 0;max-width: 0;overflow: hidden;text-align: left;background-color: #f0f8ff;}#sk-container-id-1 div.sk-toggleable__content pre {margin: 0.2em;color: black;border-radius: 0.25em;background-color: #f0f8ff;}#sk-container-id-1 input.sk-toggleable__control:checked~div.sk-toggleable__content {max-height: 200px;max-width: 100%;overflow: auto;}#sk-container-id-1 input.sk-toggleable__control:checked~label.sk-toggleable__label-arrow:before {content: \"▾\";}#sk-container-id-1 div.sk-estimator input.sk-toggleable__control:checked~label.sk-toggleable__label {background-color: #d4ebff;}#sk-container-id-1 div.sk-label input.sk-toggleable__control:checked~label.sk-toggleable__label {background-color: #d4ebff;}#sk-container-id-1 input.sk-hidden--visually {border: 0;clip: rect(1px 1px 1px 1px);clip: rect(1px, 1px, 1px, 1px);height: 1px;margin: -1px;overflow: hidden;padding: 0;position: absolute;width: 1px;}#sk-container-id-1 div.sk-estimator {font-family: monospace;background-color: #f0f8ff;border: 1px dotted black;border-radius: 0.25em;box-sizing: border-box;margin-bottom: 0.5em;}#sk-container-id-1 div.sk-estimator:hover {background-color: #d4ebff;}#sk-container-id-1 div.sk-parallel-item::after {content: \"\";width: 100%;border-bottom: 1px solid gray;flex-grow: 1;}#sk-container-id-1 div.sk-label:hover label.sk-toggleable__label {background-color: #d4ebff;}#sk-container-id-1 div.sk-serial::before {content: \"\";position: absolute;border-left: 1px solid gray;box-sizing: border-box;top: 0;bottom: 0;left: 50%;z-index: 0;}#sk-container-id-1 div.sk-serial {display: flex;flex-direction: column;align-items: center;background-color: white;padding-right: 0.2em;padding-left: 0.2em;position: relative;}#sk-container-id-1 div.sk-item {position: relative;z-index: 1;}#sk-container-id-1 div.sk-parallel {display: flex;align-items: stretch;justify-content: center;background-color: white;position: relative;}#sk-container-id-1 div.sk-item::before, #sk-container-id-1 div.sk-parallel-item::before {content: \"\";position: absolute;border-left: 1px solid gray;box-sizing: border-box;top: 0;bottom: 0;left: 50%;z-index: -1;}#sk-container-id-1 div.sk-parallel-item {display: flex;flex-direction: column;z-index: 1;position: relative;background-color: white;}#sk-container-id-1 div.sk-parallel-item:first-child::after {align-self: flex-end;width: 50%;}#sk-container-id-1 div.sk-parallel-item:last-child::after {align-self: flex-start;width: 50%;}#sk-container-id-1 div.sk-parallel-item:only-child::after {width: 0;}#sk-container-id-1 div.sk-dashed-wrapped {border: 1px dashed gray;margin: 0 0.4em 0.5em 0.4em;box-sizing: border-box;padding-bottom: 0.4em;background-color: white;}#sk-container-id-1 div.sk-label label {font-family: monospace;font-weight: bold;display: inline-block;line-height: 1.2em;}#sk-container-id-1 div.sk-label-container {text-align: center;}#sk-container-id-1 div.sk-container {/* jupyter's `normalize.less` sets `[hidden] { display: none; }` but bootstrap.min.css set `[hidden] { display: none !important; }` so we also need the `!important` here to be able to override the default hidden behavior on the sphinx rendered scikit-learn.org. See: https://github.com/scikit-learn/scikit-learn/issues/21755 */display: inline-block !important;position: relative;}#sk-container-id-1 div.sk-text-repr-fallback {display: none;}</style><div id=\"sk-container-id-1\" class=\"sk-top-container\"><div class=\"sk-text-repr-fallback\"><pre>LogisticRegression(max_iter=1000, multi_class=&#x27;multinomial&#x27;)</pre><b>In a Jupyter environment, please rerun this cell to show the HTML representation or trust the notebook. <br />On GitHub, the HTML representation is unable to render, please try loading this page with nbviewer.org.</b></div><div class=\"sk-container\" hidden><div class=\"sk-item\"><div class=\"sk-estimator sk-toggleable\"><input class=\"sk-toggleable__control sk-hidden--visually\" id=\"sk-estimator-id-1\" type=\"checkbox\" checked><label for=\"sk-estimator-id-1\" class=\"sk-toggleable__label sk-toggleable__label-arrow\">LogisticRegression</label><div class=\"sk-toggleable__content\"><pre>LogisticRegression(max_iter=1000, multi_class=&#x27;multinomial&#x27;)</pre></div></div></div></div></div>"
      ]
     },
     "execution_count": 17,
     "metadata": {},
     "output_type": "execute_result"
    }
   ],
   "execution_count": 17
  },
  {
   "metadata": {
    "ExecuteTime": {
     "end_time": "2024-05-13T02:43:35.305835Z",
     "start_time": "2024-05-13T02:43:35.286707Z"
    }
   },
   "cell_type": "code",
   "source": [
    "Y_test_logit_flat = Y_test_logit.argmax(axis=1)\n",
    "Y_pred_logit = model.predict(X_test_logit)\n",
    "\n",
    "accuracy = accuracy_score(Y_pred_logit, Y_test_logit_flat)\n",
    "print(\"Accuracy:\", accuracy)"
   ],
   "id": "3bf92ad0ac4378e9",
   "outputs": [
    {
     "name": "stdout",
     "output_type": "stream",
     "text": [
      "Accuracy: 0.38690879013459656\n"
     ]
    }
   ],
   "execution_count": 18
  }
 ],
 "metadata": {
  "kernelspec": {
   "display_name": "Python 3",
   "language": "python",
   "name": "python3"
  },
  "language_info": {
   "codemirror_mode": {
    "name": "ipython",
    "version": 2
   },
   "file_extension": ".py",
   "mimetype": "text/x-python",
   "name": "python",
   "nbconvert_exporter": "python",
   "pygments_lexer": "ipython2",
   "version": "2.7.6"
  }
 },
 "nbformat": 4,
 "nbformat_minor": 5
}
