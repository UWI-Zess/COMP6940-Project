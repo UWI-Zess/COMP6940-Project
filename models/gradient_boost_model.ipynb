{
 "cells": [
  {
   "cell_type": "code",
   "id": "initial_id",
   "metadata": {
    "collapsed": true,
    "ExecuteTime": {
     "end_time": "2024-05-13T04:15:11.958396Z",
     "start_time": "2024-05-13T04:15:11.951307Z"
    }
   },
   "source": [
    "import pandas as pd\n",
    "import numpy as np\n",
    "import seaborn as sns\n",
    "import xgboost as xgb\n",
    "\n",
    "from sklearn.linear_model import LogisticRegression\n",
    "from sklearn.model_selection import train_test_split\n",
    "from sklearn.metrics import accuracy_score\n",
    "from sklearn.metrics import confusion_matrix\n",
    "from sklearn.metrics import classification_report\n",
    "from sklearn.metrics import roc_auc_score\n",
    "from sklearn.metrics import roc_curve\n",
    "\n",
    "from imblearn.over_sampling import SMOTENC"
   ],
   "outputs": [],
   "execution_count": 7
  },
  {
   "metadata": {
    "ExecuteTime": {
     "end_time": "2024-05-13T04:15:12.156251Z",
     "start_time": "2024-05-13T04:15:12.011872Z"
    }
   },
   "cell_type": "code",
   "source": "df = pd.read_csv(\"../cleaned_hate_crime.csv\")",
   "id": "d36396b227f836f",
   "outputs": [],
   "execution_count": 8
  },
  {
   "metadata": {
    "ExecuteTime": {
     "end_time": "2024-05-13T04:15:12.170801Z",
     "start_time": "2024-05-13T04:15:12.159262Z"
    }
   },
   "cell_type": "code",
   "source": "df.head()",
   "id": "cb0c80c371a47623",
   "outputs": [
    {
     "data": {
      "text/plain": [
       "  region_name              offender_race grouped_total_offender_count  \\\n",
       "0     Midwest                      White                          Few   \n",
       "1   Northeast                      White                          Few   \n",
       "2   Northeast                      White                          Few   \n",
       "3       South  Black or African American                      Several   \n",
       "4   Northeast  Black or African American                          Few   \n",
       "\n",
       "  grouped_victim_count generalized_offense_name generalized_location_name  \\\n",
       "0                  Few           violent crimes                 Residence   \n",
       "1                  Few           violent crimes             Miscellaneous   \n",
       "2                  Few           violent crimes             Miscellaneous   \n",
       "3                  Few           violent crimes              Public Place   \n",
       "4                  Few           violent crimes             Miscellaneous   \n",
       "\n",
       "  generalized_bias_desc  \n",
       "0                  race  \n",
       "1                  race  \n",
       "2                  race  \n",
       "3                  race  \n",
       "4                  race  "
      ],
      "text/html": [
       "<div>\n",
       "<style scoped>\n",
       "    .dataframe tbody tr th:only-of-type {\n",
       "        vertical-align: middle;\n",
       "    }\n",
       "\n",
       "    .dataframe tbody tr th {\n",
       "        vertical-align: top;\n",
       "    }\n",
       "\n",
       "    .dataframe thead th {\n",
       "        text-align: right;\n",
       "    }\n",
       "</style>\n",
       "<table border=\"1\" class=\"dataframe\">\n",
       "  <thead>\n",
       "    <tr style=\"text-align: right;\">\n",
       "      <th></th>\n",
       "      <th>region_name</th>\n",
       "      <th>offender_race</th>\n",
       "      <th>grouped_total_offender_count</th>\n",
       "      <th>grouped_victim_count</th>\n",
       "      <th>generalized_offense_name</th>\n",
       "      <th>generalized_location_name</th>\n",
       "      <th>generalized_bias_desc</th>\n",
       "    </tr>\n",
       "  </thead>\n",
       "  <tbody>\n",
       "    <tr>\n",
       "      <th>0</th>\n",
       "      <td>Midwest</td>\n",
       "      <td>White</td>\n",
       "      <td>Few</td>\n",
       "      <td>Few</td>\n",
       "      <td>violent crimes</td>\n",
       "      <td>Residence</td>\n",
       "      <td>race</td>\n",
       "    </tr>\n",
       "    <tr>\n",
       "      <th>1</th>\n",
       "      <td>Northeast</td>\n",
       "      <td>White</td>\n",
       "      <td>Few</td>\n",
       "      <td>Few</td>\n",
       "      <td>violent crimes</td>\n",
       "      <td>Miscellaneous</td>\n",
       "      <td>race</td>\n",
       "    </tr>\n",
       "    <tr>\n",
       "      <th>2</th>\n",
       "      <td>Northeast</td>\n",
       "      <td>White</td>\n",
       "      <td>Few</td>\n",
       "      <td>Few</td>\n",
       "      <td>violent crimes</td>\n",
       "      <td>Miscellaneous</td>\n",
       "      <td>race</td>\n",
       "    </tr>\n",
       "    <tr>\n",
       "      <th>3</th>\n",
       "      <td>South</td>\n",
       "      <td>Black or African American</td>\n",
       "      <td>Several</td>\n",
       "      <td>Few</td>\n",
       "      <td>violent crimes</td>\n",
       "      <td>Public Place</td>\n",
       "      <td>race</td>\n",
       "    </tr>\n",
       "    <tr>\n",
       "      <th>4</th>\n",
       "      <td>Northeast</td>\n",
       "      <td>Black or African American</td>\n",
       "      <td>Few</td>\n",
       "      <td>Few</td>\n",
       "      <td>violent crimes</td>\n",
       "      <td>Miscellaneous</td>\n",
       "      <td>race</td>\n",
       "    </tr>\n",
       "  </tbody>\n",
       "</table>\n",
       "</div>"
      ]
     },
     "execution_count": 9,
     "metadata": {},
     "output_type": "execute_result"
    }
   ],
   "execution_count": 9
  },
  {
   "metadata": {
    "ExecuteTime": {
     "end_time": "2024-05-13T04:15:12.189673Z",
     "start_time": "2024-05-13T04:15:12.173206Z"
    }
   },
   "cell_type": "code",
   "source": [
    "# Creating X and Y General Subsets of the data\n",
    "X_xgb = df[[\"region_name\", \"offender_race\", \"grouped_total_offender_count\", \"grouped_victim_count\", \"generalized_offense_name\", \"generalized_location_name\"]]\n",
    "\n",
    "Y_xgb = df[\"generalized_bias_desc\"]"
   ],
   "id": "ecec11ed0dc47428",
   "outputs": [],
   "execution_count": 10
  },
  {
   "metadata": {
    "ExecuteTime": {
     "end_time": "2024-05-13T04:15:12.392714Z",
     "start_time": "2024-05-13T04:15:12.193886Z"
    }
   },
   "cell_type": "code",
   "source": [
    "cat_vars=[\"region_name\", \"offender_race\", \"grouped_total_offender_count\", \"grouped_victim_count\", \"generalized_offense_name\", \"generalized_location_name\"]\n",
    "\n",
    "for var in cat_vars:\n",
    "    cat_list = pd.get_dummies(X_xgb[var], prefix=var)\n",
    "    X_xgb = pd.concat([X_xgb, cat_list], axis=1)\n",
    "    X_xgb.drop(var, axis=1, inplace=True)"
   ],
   "id": "69613479272e4096",
   "outputs": [],
   "execution_count": 11
  },
  {
   "metadata": {
    "ExecuteTime": {
     "end_time": "2024-05-13T04:15:12.439200Z",
     "start_time": "2024-05-13T04:15:12.399Z"
    }
   },
   "cell_type": "code",
   "source": "X_xgb.head()",
   "id": "9fbb15a64149bfb1",
   "outputs": [
    {
     "data": {
      "text/plain": [
       "   region_name_Midwest  region_name_Northeast  region_name_Other  \\\n",
       "0                 True                  False              False   \n",
       "1                False                   True              False   \n",
       "2                False                   True              False   \n",
       "3                False                  False              False   \n",
       "4                False                   True              False   \n",
       "\n",
       "   region_name_South  region_name_U.S. Territories  region_name_West  \\\n",
       "0              False                         False             False   \n",
       "1              False                         False             False   \n",
       "2              False                         False             False   \n",
       "3               True                         False             False   \n",
       "4              False                         False             False   \n",
       "\n",
       "   offender_race_American Indian or Alaska Native  offender_race_Asian  \\\n",
       "0                                           False                False   \n",
       "1                                           False                False   \n",
       "2                                           False                False   \n",
       "3                                           False                False   \n",
       "4                                           False                False   \n",
       "\n",
       "   offender_race_Black or African American  offender_race_Multiple  ...  \\\n",
       "0                                    False                   False  ...   \n",
       "1                                    False                   False  ...   \n",
       "2                                    False                   False  ...   \n",
       "3                                     True                   False  ...   \n",
       "4                                     True                   False  ...   \n",
       "\n",
       "   generalized_offense_name_sexual crimes  \\\n",
       "0                                   False   \n",
       "1                                   False   \n",
       "2                                   False   \n",
       "3                                   False   \n",
       "4                                   False   \n",
       "\n",
       "   generalized_offense_name_violent crimes  \\\n",
       "0                                     True   \n",
       "1                                     True   \n",
       "2                                     True   \n",
       "3                                     True   \n",
       "4                                     True   \n",
       "\n",
       "   generalized_location_name_Construction/Industrial  \\\n",
       "0                                              False   \n",
       "1                                              False   \n",
       "2                                              False   \n",
       "3                                              False   \n",
       "4                                              False   \n",
       "\n",
       "   generalized_location_name_Education  \\\n",
       "0                                False   \n",
       "1                                False   \n",
       "2                                False   \n",
       "3                                False   \n",
       "4                                False   \n",
       "\n",
       "   generalized_location_name_Law Enforcement  \\\n",
       "0                                      False   \n",
       "1                                      False   \n",
       "2                                      False   \n",
       "3                                      False   \n",
       "4                                      False   \n",
       "\n",
       "   generalized_location_name_Miscellaneous  \\\n",
       "0                                    False   \n",
       "1                                     True   \n",
       "2                                     True   \n",
       "3                                    False   \n",
       "4                                     True   \n",
       "\n",
       "   generalized_location_name_Outdoor/Nature  \\\n",
       "0                                     False   \n",
       "1                                     False   \n",
       "2                                     False   \n",
       "3                                     False   \n",
       "4                                     False   \n",
       "\n",
       "   generalized_location_name_Public Place  \\\n",
       "0                                   False   \n",
       "1                                   False   \n",
       "2                                   False   \n",
       "3                                    True   \n",
       "4                                   False   \n",
       "\n",
       "   generalized_location_name_Residence  generalized_location_name_Retail  \n",
       "0                                 True                             False  \n",
       "1                                False                             False  \n",
       "2                                False                             False  \n",
       "3                                False                             False  \n",
       "4                                False                             False  \n",
       "\n",
       "[5 rows x 32 columns]"
      ],
      "text/html": [
       "<div>\n",
       "<style scoped>\n",
       "    .dataframe tbody tr th:only-of-type {\n",
       "        vertical-align: middle;\n",
       "    }\n",
       "\n",
       "    .dataframe tbody tr th {\n",
       "        vertical-align: top;\n",
       "    }\n",
       "\n",
       "    .dataframe thead th {\n",
       "        text-align: right;\n",
       "    }\n",
       "</style>\n",
       "<table border=\"1\" class=\"dataframe\">\n",
       "  <thead>\n",
       "    <tr style=\"text-align: right;\">\n",
       "      <th></th>\n",
       "      <th>region_name_Midwest</th>\n",
       "      <th>region_name_Northeast</th>\n",
       "      <th>region_name_Other</th>\n",
       "      <th>region_name_South</th>\n",
       "      <th>region_name_U.S. Territories</th>\n",
       "      <th>region_name_West</th>\n",
       "      <th>offender_race_American Indian or Alaska Native</th>\n",
       "      <th>offender_race_Asian</th>\n",
       "      <th>offender_race_Black or African American</th>\n",
       "      <th>offender_race_Multiple</th>\n",
       "      <th>...</th>\n",
       "      <th>generalized_offense_name_sexual crimes</th>\n",
       "      <th>generalized_offense_name_violent crimes</th>\n",
       "      <th>generalized_location_name_Construction/Industrial</th>\n",
       "      <th>generalized_location_name_Education</th>\n",
       "      <th>generalized_location_name_Law Enforcement</th>\n",
       "      <th>generalized_location_name_Miscellaneous</th>\n",
       "      <th>generalized_location_name_Outdoor/Nature</th>\n",
       "      <th>generalized_location_name_Public Place</th>\n",
       "      <th>generalized_location_name_Residence</th>\n",
       "      <th>generalized_location_name_Retail</th>\n",
       "    </tr>\n",
       "  </thead>\n",
       "  <tbody>\n",
       "    <tr>\n",
       "      <th>0</th>\n",
       "      <td>True</td>\n",
       "      <td>False</td>\n",
       "      <td>False</td>\n",
       "      <td>False</td>\n",
       "      <td>False</td>\n",
       "      <td>False</td>\n",
       "      <td>False</td>\n",
       "      <td>False</td>\n",
       "      <td>False</td>\n",
       "      <td>False</td>\n",
       "      <td>...</td>\n",
       "      <td>False</td>\n",
       "      <td>True</td>\n",
       "      <td>False</td>\n",
       "      <td>False</td>\n",
       "      <td>False</td>\n",
       "      <td>False</td>\n",
       "      <td>False</td>\n",
       "      <td>False</td>\n",
       "      <td>True</td>\n",
       "      <td>False</td>\n",
       "    </tr>\n",
       "    <tr>\n",
       "      <th>1</th>\n",
       "      <td>False</td>\n",
       "      <td>True</td>\n",
       "      <td>False</td>\n",
       "      <td>False</td>\n",
       "      <td>False</td>\n",
       "      <td>False</td>\n",
       "      <td>False</td>\n",
       "      <td>False</td>\n",
       "      <td>False</td>\n",
       "      <td>False</td>\n",
       "      <td>...</td>\n",
       "      <td>False</td>\n",
       "      <td>True</td>\n",
       "      <td>False</td>\n",
       "      <td>False</td>\n",
       "      <td>False</td>\n",
       "      <td>True</td>\n",
       "      <td>False</td>\n",
       "      <td>False</td>\n",
       "      <td>False</td>\n",
       "      <td>False</td>\n",
       "    </tr>\n",
       "    <tr>\n",
       "      <th>2</th>\n",
       "      <td>False</td>\n",
       "      <td>True</td>\n",
       "      <td>False</td>\n",
       "      <td>False</td>\n",
       "      <td>False</td>\n",
       "      <td>False</td>\n",
       "      <td>False</td>\n",
       "      <td>False</td>\n",
       "      <td>False</td>\n",
       "      <td>False</td>\n",
       "      <td>...</td>\n",
       "      <td>False</td>\n",
       "      <td>True</td>\n",
       "      <td>False</td>\n",
       "      <td>False</td>\n",
       "      <td>False</td>\n",
       "      <td>True</td>\n",
       "      <td>False</td>\n",
       "      <td>False</td>\n",
       "      <td>False</td>\n",
       "      <td>False</td>\n",
       "    </tr>\n",
       "    <tr>\n",
       "      <th>3</th>\n",
       "      <td>False</td>\n",
       "      <td>False</td>\n",
       "      <td>False</td>\n",
       "      <td>True</td>\n",
       "      <td>False</td>\n",
       "      <td>False</td>\n",
       "      <td>False</td>\n",
       "      <td>False</td>\n",
       "      <td>True</td>\n",
       "      <td>False</td>\n",
       "      <td>...</td>\n",
       "      <td>False</td>\n",
       "      <td>True</td>\n",
       "      <td>False</td>\n",
       "      <td>False</td>\n",
       "      <td>False</td>\n",
       "      <td>False</td>\n",
       "      <td>False</td>\n",
       "      <td>True</td>\n",
       "      <td>False</td>\n",
       "      <td>False</td>\n",
       "    </tr>\n",
       "    <tr>\n",
       "      <th>4</th>\n",
       "      <td>False</td>\n",
       "      <td>True</td>\n",
       "      <td>False</td>\n",
       "      <td>False</td>\n",
       "      <td>False</td>\n",
       "      <td>False</td>\n",
       "      <td>False</td>\n",
       "      <td>False</td>\n",
       "      <td>True</td>\n",
       "      <td>False</td>\n",
       "      <td>...</td>\n",
       "      <td>False</td>\n",
       "      <td>True</td>\n",
       "      <td>False</td>\n",
       "      <td>False</td>\n",
       "      <td>False</td>\n",
       "      <td>True</td>\n",
       "      <td>False</td>\n",
       "      <td>False</td>\n",
       "      <td>False</td>\n",
       "      <td>False</td>\n",
       "    </tr>\n",
       "  </tbody>\n",
       "</table>\n",
       "<p>5 rows × 32 columns</p>\n",
       "</div>"
      ]
     },
     "execution_count": 12,
     "metadata": {},
     "output_type": "execute_result"
    }
   ],
   "execution_count": 12
  },
  {
   "metadata": {
    "ExecuteTime": {
     "end_time": "2024-05-13T04:15:12.507191Z",
     "start_time": "2024-05-13T04:15:12.443400Z"
    }
   },
   "cell_type": "code",
   "source": [
    "# encode the generalized bias description to 0, 1,2\n",
    "Y_xgb = Y_xgb.replace(\"race\", 0)\n",
    "Y_xgb = Y_xgb.replace(\"religion\", 1)\n",
    "Y_xgb = Y_xgb.replace(\"sexual orientation\", 2)"
   ],
   "id": "e1c9b429a4c73cfd",
   "outputs": [],
   "execution_count": 13
  },
  {
   "metadata": {
    "ExecuteTime": {
     "end_time": "2024-05-13T04:15:12.549363Z",
     "start_time": "2024-05-13T04:15:12.510283Z"
    }
   },
   "cell_type": "code",
   "source": [
    "# Splitting the data into training and testing sets\n",
    "X_train, X_test, y_train, y_test = train_test_split(X_xgb, Y_xgb, test_size=0.2, random_state=69)"
   ],
   "id": "30943e8367752bff",
   "outputs": [],
   "execution_count": 14
  },
  {
   "metadata": {
    "ExecuteTime": {
     "end_time": "2024-05-13T04:20:56.987964Z",
     "start_time": "2024-05-13T04:20:53.739123Z"
    }
   },
   "cell_type": "code",
   "source": [
    "xgb_model = xgb.XGBClassifier(objective=\"multi:softprob\", num_class=3, max_depth=10, random_state=69)\n",
    "\n",
    "xgb_model.fit(X_train, y_train)"
   ],
   "id": "5c266a381aebc7dc",
   "outputs": [
    {
     "data": {
      "text/plain": [
       "XGBClassifier(base_score=None, booster=None, callbacks=None,\n",
       "              colsample_bylevel=None, colsample_bynode=None,\n",
       "              colsample_bytree=None, device=None, early_stopping_rounds=None,\n",
       "              enable_categorical=False, eval_metric=None, feature_types=None,\n",
       "              gamma=None, grow_policy=None, importance_type=None,\n",
       "              interaction_constraints=None, learning_rate=None, max_bin=None,\n",
       "              max_cat_threshold=None, max_cat_to_onehot=None,\n",
       "              max_delta_step=None, max_depth=10, max_leaves=None,\n",
       "              min_child_weight=None, missing=nan, monotone_constraints=None,\n",
       "              multi_strategy=None, n_estimators=None, n_jobs=None, num_class=3,\n",
       "              num_parallel_tree=None, ...)"
      ],
      "text/html": [
       "<style>#sk-container-id-3 {color: black;background-color: white;}#sk-container-id-3 pre{padding: 0;}#sk-container-id-3 div.sk-toggleable {background-color: white;}#sk-container-id-3 label.sk-toggleable__label {cursor: pointer;display: block;width: 100%;margin-bottom: 0;padding: 0.3em;box-sizing: border-box;text-align: center;}#sk-container-id-3 label.sk-toggleable__label-arrow:before {content: \"▸\";float: left;margin-right: 0.25em;color: #696969;}#sk-container-id-3 label.sk-toggleable__label-arrow:hover:before {color: black;}#sk-container-id-3 div.sk-estimator:hover label.sk-toggleable__label-arrow:before {color: black;}#sk-container-id-3 div.sk-toggleable__content {max-height: 0;max-width: 0;overflow: hidden;text-align: left;background-color: #f0f8ff;}#sk-container-id-3 div.sk-toggleable__content pre {margin: 0.2em;color: black;border-radius: 0.25em;background-color: #f0f8ff;}#sk-container-id-3 input.sk-toggleable__control:checked~div.sk-toggleable__content {max-height: 200px;max-width: 100%;overflow: auto;}#sk-container-id-3 input.sk-toggleable__control:checked~label.sk-toggleable__label-arrow:before {content: \"▾\";}#sk-container-id-3 div.sk-estimator input.sk-toggleable__control:checked~label.sk-toggleable__label {background-color: #d4ebff;}#sk-container-id-3 div.sk-label input.sk-toggleable__control:checked~label.sk-toggleable__label {background-color: #d4ebff;}#sk-container-id-3 input.sk-hidden--visually {border: 0;clip: rect(1px 1px 1px 1px);clip: rect(1px, 1px, 1px, 1px);height: 1px;margin: -1px;overflow: hidden;padding: 0;position: absolute;width: 1px;}#sk-container-id-3 div.sk-estimator {font-family: monospace;background-color: #f0f8ff;border: 1px dotted black;border-radius: 0.25em;box-sizing: border-box;margin-bottom: 0.5em;}#sk-container-id-3 div.sk-estimator:hover {background-color: #d4ebff;}#sk-container-id-3 div.sk-parallel-item::after {content: \"\";width: 100%;border-bottom: 1px solid gray;flex-grow: 1;}#sk-container-id-3 div.sk-label:hover label.sk-toggleable__label {background-color: #d4ebff;}#sk-container-id-3 div.sk-serial::before {content: \"\";position: absolute;border-left: 1px solid gray;box-sizing: border-box;top: 0;bottom: 0;left: 50%;z-index: 0;}#sk-container-id-3 div.sk-serial {display: flex;flex-direction: column;align-items: center;background-color: white;padding-right: 0.2em;padding-left: 0.2em;position: relative;}#sk-container-id-3 div.sk-item {position: relative;z-index: 1;}#sk-container-id-3 div.sk-parallel {display: flex;align-items: stretch;justify-content: center;background-color: white;position: relative;}#sk-container-id-3 div.sk-item::before, #sk-container-id-3 div.sk-parallel-item::before {content: \"\";position: absolute;border-left: 1px solid gray;box-sizing: border-box;top: 0;bottom: 0;left: 50%;z-index: -1;}#sk-container-id-3 div.sk-parallel-item {display: flex;flex-direction: column;z-index: 1;position: relative;background-color: white;}#sk-container-id-3 div.sk-parallel-item:first-child::after {align-self: flex-end;width: 50%;}#sk-container-id-3 div.sk-parallel-item:last-child::after {align-self: flex-start;width: 50%;}#sk-container-id-3 div.sk-parallel-item:only-child::after {width: 0;}#sk-container-id-3 div.sk-dashed-wrapped {border: 1px dashed gray;margin: 0 0.4em 0.5em 0.4em;box-sizing: border-box;padding-bottom: 0.4em;background-color: white;}#sk-container-id-3 div.sk-label label {font-family: monospace;font-weight: bold;display: inline-block;line-height: 1.2em;}#sk-container-id-3 div.sk-label-container {text-align: center;}#sk-container-id-3 div.sk-container {/* jupyter's `normalize.less` sets `[hidden] { display: none; }` but bootstrap.min.css set `[hidden] { display: none !important; }` so we also need the `!important` here to be able to override the default hidden behavior on the sphinx rendered scikit-learn.org. See: https://github.com/scikit-learn/scikit-learn/issues/21755 */display: inline-block !important;position: relative;}#sk-container-id-3 div.sk-text-repr-fallback {display: none;}</style><div id=\"sk-container-id-3\" class=\"sk-top-container\"><div class=\"sk-text-repr-fallback\"><pre>XGBClassifier(base_score=None, booster=None, callbacks=None,\n",
       "              colsample_bylevel=None, colsample_bynode=None,\n",
       "              colsample_bytree=None, device=None, early_stopping_rounds=None,\n",
       "              enable_categorical=False, eval_metric=None, feature_types=None,\n",
       "              gamma=None, grow_policy=None, importance_type=None,\n",
       "              interaction_constraints=None, learning_rate=None, max_bin=None,\n",
       "              max_cat_threshold=None, max_cat_to_onehot=None,\n",
       "              max_delta_step=None, max_depth=10, max_leaves=None,\n",
       "              min_child_weight=None, missing=nan, monotone_constraints=None,\n",
       "              multi_strategy=None, n_estimators=None, n_jobs=None, num_class=3,\n",
       "              num_parallel_tree=None, ...)</pre><b>In a Jupyter environment, please rerun this cell to show the HTML representation or trust the notebook. <br />On GitHub, the HTML representation is unable to render, please try loading this page with nbviewer.org.</b></div><div class=\"sk-container\" hidden><div class=\"sk-item\"><div class=\"sk-estimator sk-toggleable\"><input class=\"sk-toggleable__control sk-hidden--visually\" id=\"sk-estimator-id-3\" type=\"checkbox\" checked><label for=\"sk-estimator-id-3\" class=\"sk-toggleable__label sk-toggleable__label-arrow\">XGBClassifier</label><div class=\"sk-toggleable__content\"><pre>XGBClassifier(base_score=None, booster=None, callbacks=None,\n",
       "              colsample_bylevel=None, colsample_bynode=None,\n",
       "              colsample_bytree=None, device=None, early_stopping_rounds=None,\n",
       "              enable_categorical=False, eval_metric=None, feature_types=None,\n",
       "              gamma=None, grow_policy=None, importance_type=None,\n",
       "              interaction_constraints=None, learning_rate=None, max_bin=None,\n",
       "              max_cat_threshold=None, max_cat_to_onehot=None,\n",
       "              max_delta_step=None, max_depth=10, max_leaves=None,\n",
       "              min_child_weight=None, missing=nan, monotone_constraints=None,\n",
       "              multi_strategy=None, n_estimators=None, n_jobs=None, num_class=3,\n",
       "              num_parallel_tree=None, ...)</pre></div></div></div></div></div>"
      ]
     },
     "execution_count": 21,
     "metadata": {},
     "output_type": "execute_result"
    }
   ],
   "execution_count": 21
  },
  {
   "metadata": {
    "ExecuteTime": {
     "end_time": "2024-05-13T04:24:10.019133Z",
     "start_time": "2024-05-13T04:24:09.915456Z"
    }
   },
   "cell_type": "code",
   "source": [
    "y_pred = xgb_model.predict(X_test)\n",
    "accuracy = accuracy_score(y_test, y_pred)\n",
    "print(\"Accruacy:\", accuracy)"
   ],
   "id": "9c78f8cf5ab02aeb",
   "outputs": [
    {
     "name": "stdout",
     "output_type": "stream",
     "text": [
      "Accruacy: 0.7152793443116023\n"
     ]
    }
   ],
   "execution_count": 25
  },
  {
   "metadata": {
    "ExecuteTime": {
     "end_time": "2024-05-13T04:24:43.289290Z",
     "start_time": "2024-05-13T04:24:43.243286Z"
    }
   },
   "cell_type": "code",
   "source": "print(classification_report(y_test, y_pred))",
   "id": "cbc712adea5858a3",
   "outputs": [
    {
     "name": "stdout",
     "output_type": "stream",
     "text": [
      "              precision    recall  f1-score   support\n",
      "\n",
      "           0       0.72      1.00      0.83     19004\n",
      "           1       0.56      0.03      0.06      2310\n",
      "           2       0.40      0.00      0.01      5284\n",
      "\n",
      "    accuracy                           0.72     26598\n",
      "   macro avg       0.56      0.34      0.30     26598\n",
      "weighted avg       0.64      0.72      0.60     26598\n",
      "\n"
     ]
    }
   ],
   "execution_count": 26
  }
 ],
 "metadata": {
  "kernelspec": {
   "display_name": "Python 3",
   "language": "python",
   "name": "python3"
  },
  "language_info": {
   "codemirror_mode": {
    "name": "ipython",
    "version": 2
   },
   "file_extension": ".py",
   "mimetype": "text/x-python",
   "name": "python",
   "nbconvert_exporter": "python",
   "pygments_lexer": "ipython2",
   "version": "2.7.6"
  }
 },
 "nbformat": 4,
 "nbformat_minor": 5
}
